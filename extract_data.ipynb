{
 "cells": [
  {
   "cell_type": "code",
   "execution_count": 1,
   "id": "e0e4211d",
   "metadata": {
    "vscode": {
     "languageId": "plaintext"
    }
   },
   "outputs": [],
   "source": [
    "from file_utils import split_pdf_into_pages\n",
    "\n",
    "input_pdf_path = \"M&P mark-up against shop systems piping.pdf\"  # Replace with your input PDF path\n",
    "output_folder = \"M&P mark-up against shop systems piping\"  # Replace with your output folder path\n",
    "split_pdf_into_pages(input_pdf_path, output_folder) # splits the pdf into chunks, in this case, pages"
   ]
  },
  {
   "cell_type": "code",
   "execution_count": 2,
   "id": "c706edea-7181-4754-ab7d-18b72563b09d",
   "metadata": {},
   "outputs": [],
   "source": [
    "from file_utils import get_files_from_directory\n",
    "\n",
    "# fetch all chunks from the output folder\n",
    "files = get_files_from_directory(output_folder)"
   ]
  },
  {
   "cell_type": "code",
   "execution_count": 5,
   "id": "987342fc-7069-48d2-8d07-ab384c2bac3c",
   "metadata": {},
   "outputs": [
    {
     "name": "stdout",
     "output_type": "stream",
     "text": [
      "Parsing file 1 of 18\n",
      "Parsing file 2 of 18\n",
      "Parsing file 3 of 18\n",
      "Parsing file 4 of 18\n",
      "Parsing file 5 of 18\n",
      "Parsing file 6 of 18\n",
      "Parsing file 7 of 18\n",
      "Parsing file 8 of 18\n",
      "Parsing file 9 of 18\n",
      "Parsing file 10 of 18\n",
      "Parsing file 11 of 18\n",
      "Parsing file 12 of 18\n",
      "Parsing file 13 of 18\n",
      "Parsing file 14 of 18\n",
      "Parsing file 15 of 18\n",
      "Parsing file 16 of 18\n",
      "Parsing file 17 of 18\n",
      "Parsing file 18 of 18\n"
     ]
    },
    {
     "ename": "NameError",
     "evalue": "name 'pprint' is not defined",
     "output_type": "error",
     "traceback": [
      "\u001b[0;31m---------------------------------------------------------------------------\u001b[0m",
      "\u001b[0;31mNameError\u001b[0m                                 Traceback (most recent call last)",
      "Cell \u001b[0;32mIn[5], line 20\u001b[0m\n\u001b[1;32m     17\u001b[0m         res\u001b[38;5;241m.\u001b[39mappend(obj\u001b[38;5;241m.\u001b[39mmodel_dump())\n\u001b[1;32m     18\u001b[0m     time\u001b[38;5;241m.\u001b[39msleep(\u001b[38;5;241m1\u001b[39m)\n\u001b[0;32m---> 20\u001b[0m \u001b[43mpprint\u001b[49m\u001b[38;5;241m.\u001b[39mpprint(res)\n",
      "\u001b[0;31mNameError\u001b[0m: name 'pprint' is not defined"
     ]
    }
   ],
   "source": [
    "import time\n",
    "from llm_utils import get_context_from_document\n",
    "\n",
    "prompt = '''You are an OCR tool. Export all fixtures, their quantity (count), \n",
    "            what unit they are part of, floor, dimensions (usually found to the left \n",
    "            of the fitting name with null symbol), mounting type (whether wall-mounted, floor-mounted, etc.) if stated,\n",
    "            along with the page number. Give result as an api response in JSON format with keys \"fixtureType\", \"quantity\",\n",
    "            \"unit\", \"floor\", \"dimensions\", \"mountingType\", \"drawingName\", \"pageNumber\". \n",
    "            Respond with an empty JSON list if no data is found or if no data can be extracted'''\n",
    "\n",
    "res = []\n",
    "for idx, file in enumerate(files):\n",
    "    print(f\"Parsing file {idx + 1} of {len(files)}\")\n",
    "    res_obj = get_context_from_document(prompt, file)\n",
    "    for obj in res_obj:\n",
    "        obj.pageNumber = idx + 1\n",
    "        res.append(obj.model_dump())\n",
    "    time.sleep(1)\n",
    "\n",
    "pprint.pprint(res)"
   ]
  },
  {
   "cell_type": "code",
   "execution_count": null,
   "id": "cddd3b23-6ffa-4bc7-9c8b-88ef713e0e17",
   "metadata": {},
   "outputs": [],
   "source": []
  }
 ],
 "metadata": {
  "kernelspec": {
   "display_name": "Python 3 (ipykernel)",
   "language": "python",
   "name": "python3"
  },
  "language_info": {
   "codemirror_mode": {
    "name": "ipython",
    "version": 3
   },
   "file_extension": ".py",
   "mimetype": "text/x-python",
   "name": "python",
   "nbconvert_exporter": "python",
   "pygments_lexer": "ipython3",
   "version": "3.9.6"
  }
 },
 "nbformat": 4,
 "nbformat_minor": 5
}
